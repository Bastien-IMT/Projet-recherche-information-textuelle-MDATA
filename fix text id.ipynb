{
 "cells": [
  {
   "cell_type": "code",
   "execution_count": 9,
   "metadata": {
    "collapsed": true
   },
   "outputs": [],
   "source": [
    "import json\n",
    "from preprocessing import preprocess_document\n",
    "\n",
    "def load_data(dataset_name='med'):\n",
    "    \"\"\"\n",
    "    Loads data from a given dataset name\n",
    "    !!!Datasets must be json files in /data/datasets/ folder !!!\n",
    "    :param dataset_name: str\n",
    "    :return: dataset (corpus), queries unlabelled, queries labels\n",
    "    \"\"\"\n",
    "    path_data_folder = 'data/datasets/'\n",
    "    dataset_path = path_data_folder + dataset_name + '_dataset.json'\n",
    "    queries_path = path_data_folder + dataset_name + '_queries.json'\n",
    "    ground_truth_path = path_data_folder + dataset_name + '_groundtruth.json'\n",
    "    with open(dataset_path) as json_file:\n",
    "        dataset = json.load(json_file)\n",
    "\n",
    "    with open(queries_path) as json_file:\n",
    "        queries = json.load(json_file)\n",
    "\n",
    "    with open(ground_truth_path) as json_file:\n",
    "        ground_truth = json.load(json_file)\n",
    "\n",
    "    return dataset['dataset'], queries['queries'], ground_truth['groundtruth']\n",
    "\n",
    "def descripteur_ensembliste_document(document):\n",
    "    \"\"\"\n",
    "    Creates ensembliste descriptor\n",
    "    :param document: must be bag words dict {\"word\" : frequency}\n",
    "    :return: list of unique word in document\n",
    "    \"\"\"\n",
    "    return [word for word in document.keys()]\n",
    "\n",
    "def index_construction(corpus_tokenized):\n",
    "    \"\"\"\n",
    "    Builds linear index.\n",
    "    :param corpus_tokenized: dict of documents (one document is a bag of words)\n",
    "    :return: dict{document_id : descripteur_ensembliste_document(document)}\n",
    "    \"\"\"\n",
    "    result = dict()\n",
    "    for id in corpus_tokenized:\n",
    "        result[id] = descripteur_ensembliste_document(corpus_tokenized[id])\n",
    "    return result"
   ]
  },
  {
   "cell_type": "code",
   "execution_count": 2,
   "outputs": [],
   "source": [
    "dataset, queries, bagwords = load_data('cacm')"
   ],
   "metadata": {
    "collapsed": false,
    "pycharm": {
     "name": "#%%\n"
    }
   }
  },
  {
   "cell_type": "code",
   "execution_count": 4,
   "outputs": [],
   "source": [
    "def preprocess_corpus(corpus, stop_list, stop_words=True, stemm=True, bag_words=True):\n",
    "    \"\"\"\n",
    "    Preprocess all documents in a corpus.\n",
    "    :param corpus: list of documents (a document is a dict {\"text\" : \"content of document\"})\n",
    "    :param stop_list: array of stop words to remove from documents\n",
    "    :param stop_words: boolean True to remove them False otherwise\n",
    "    :param stemm: boolean True to stemm words False otherwise\n",
    "    :param bag_words: boolean True to turn documents into bagwords False otherwise\n",
    "    :return: dictionary of documents preprocessed {id: document}\n",
    "    \"\"\"\n",
    "    corpus_preprocessed = dict()\n",
    "    for element in corpus:\n",
    "        document = preprocess_document(element['text'], stop_list, stop_words, stemm, bag_words)\n",
    "        corpus_preprocessed[element['id']] = document\n",
    "\n",
    "    return corpus_preprocessed"
   ],
   "metadata": {
    "collapsed": false,
    "pycharm": {
     "name": "#%%\n"
    }
   }
  },
  {
   "cell_type": "code",
   "execution_count": 7,
   "outputs": [],
   "source": [
    "import numpy as np\n",
    "stop_list = np.genfromtxt('data/stoplist/stoplist-english.txt', dtype='str')\n",
    "\n",
    "corpus = preprocess_corpus(dataset, stop_list)"
   ],
   "metadata": {
    "collapsed": false,
    "pycharm": {
     "name": "#%%\n"
    }
   }
  },
  {
   "cell_type": "code",
   "execution_count": 10,
   "outputs": [],
   "source": [
    "index = index_construction(corpus)"
   ],
   "metadata": {
    "collapsed": false,
    "pycharm": {
     "name": "#%%\n"
    }
   }
  }
 ],
 "metadata": {
  "kernelspec": {
   "name": "pycharm-b574e03b",
   "language": "python",
   "display_name": "PyCharm (scientificProject)"
  },
  "language_info": {
   "codemirror_mode": {
    "name": "ipython",
    "version": 2
   },
   "file_extension": ".py",
   "mimetype": "text/x-python",
   "name": "python",
   "nbconvert_exporter": "python",
   "pygments_lexer": "ipython2",
   "version": "2.7.6"
  }
 },
 "nbformat": 4,
 "nbformat_minor": 0
}